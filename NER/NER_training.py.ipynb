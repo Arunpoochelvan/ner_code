{
 "cells": [
  {
   "cell_type": "markdown",
   "metadata": {},
   "source": [
    "# Named Entity Recognition (NER)"
   ]
  },
  {
   "cell_type": "markdown",
   "metadata": {},
   "source": [
    "I will attempt to do the Named Entity Recognition task. I will train two models and demonstrate their results below.\n",
    "\n",
    "The models are:\n",
    "1- Spacy NER system (https://spacy.io/). Spacy is an industrial strength NLP library, that is widely used for similar NLP applications. E.g. it's being used by BBC, Microsoft, and many other big companies.\n",
    "\n",
    "2- Bidirectional Encoders Representations for Transofrmers (BERT). BERT is a bidirectional deep learning model by deep mind (https://ai.googleblog.com/2018/11/open-sourcing-bert-state-of-art-pre.html). BERT is currently the state-of-the-art system in various NLP applications including NER. \n",
    "\n",
    "I have selected these two models to demonstrate that I am capable of providing a quick & relaiable solution when needed (I am talking about Spacy). Also, when time allows, I am capable of providing a siginfacntly better solution that is considered the state-of-the-art in the field (BERT).\n",
    "\n",
    "Requirements to run this:\n",
    "Python 3.6\n",
    "Spacy '2.0.16'\n"
   ]
  },
  {
   "cell_type": "markdown",
   "metadata": {},
   "source": [
    "## 1- Spacy NER"
   ]
  },
  {
   "cell_type": "markdown",
   "metadata": {},
   "source": [
    "#### Initialization"
   ]
  },
  {
   "cell_type": "code",
   "execution_count": 21,
   "metadata": {},
   "outputs": [],
   "source": [
    "import spacy"
   ]
  },
  {
   "cell_type": "markdown",
   "metadata": {},
   "source": [
    "#### Preparing the data\n",
    "\n",
    "Inspecting the data, shuffeling it and preparing it to be fed into the Spacy model.\n",
    "\n",
    "I will keep 10% of the data for validation. To make sure my model is not overfitting."
   ]
  },
  {
   "cell_type": "code",
   "execution_count": 27,
   "metadata": {
    "scrolled": false
   },
   "outputs": [
    {
     "name": "stdout",
     "output_type": "stream",
     "text": [
      "We have 18454 training instances.\n"
     ]
    }
   ],
   "source": [
    "# reading the raw data\n",
    "raw_data_PATH = '../NER/Dataset/'\n",
    "raw_data = raw_data_PATH+'ner_dataset.txt'\n",
    "F_ = open(raw_data, 'r')\n",
    "\n",
    "TRAIN_DATA = []\n",
    "sentence = []\n",
    "for line in F_:\n",
    "    line = line.split('\\n')[0]\n",
    "    \n",
    "    if line == '':\n",
    "        TRAIN_DATA.append(sentence)\n",
    "#         print(' '.join(sentence))\n",
    "        sentence = []\n",
    "#         print('------------------')\n",
    "    else:\n",
    "        line = line.split(' ')\n",
    "        sentence.append(line[0])\n",
    "\n",
    "# Inspecting the data        \n",
    "print('We have',len(TRAIN_DATA),'training instances.')\n"
   ]
  },
  {
   "cell_type": "markdown",
   "metadata": {},
   "source": [
    "#### Training the model"
   ]
  },
  {
   "cell_type": "code",
   "execution_count": null,
   "metadata": {},
   "outputs": [],
   "source": []
  },
  {
   "cell_type": "markdown",
   "metadata": {},
   "source": [
    "#### Testing the model"
   ]
  },
  {
   "cell_type": "code",
   "execution_count": null,
   "metadata": {},
   "outputs": [],
   "source": []
  }
 ],
 "metadata": {
  "kernelspec": {
   "display_name": "Python 3",
   "language": "python",
   "name": "python3"
  },
  "language_info": {
   "codemirror_mode": {
    "name": "ipython",
    "version": 3
   },
   "file_extension": ".py",
   "mimetype": "text/x-python",
   "name": "python",
   "nbconvert_exporter": "python",
   "pygments_lexer": "ipython3",
   "version": "3.6.5"
  }
 },
 "nbformat": 4,
 "nbformat_minor": 2
}
